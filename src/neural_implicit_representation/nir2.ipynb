{
 "cells": [
  {
   "cell_type": "markdown",
   "id": "02805bad-b32e-4e92-b36e-8383f0050dce",
   "metadata": {},
   "source": [
    "# Neural Implicit Representation 2\n",
    "\n",
    "This is just a frontend to python code sitting in train.py, pixels.py, and model.py.  This frontend is most useful when performing inference, generating pictures and plots, and such.\n",
    "\n",
    "Companion jupyter notebook nir.ipynb sets up everything inline.  It is great for quick prototyping and ideation; however, raw python files are better if your training is going to take a while.  It is often better to train large models outside of jupyter notebook.  This is especially true when using shared compute environments, such as soscip cloud or compute canada computers.\n",
    "\n",
    "Note: sometimes jupyter notebook doesn't execute a cell if it thinks that nothing is changed in that cell. \n",
    "\n",
    "Faisal Qureshi    \n",
    "faisal.qureshi@ontariotechu.ca"
   ]
  },
  {
   "cell_type": "code",
   "execution_count": null,
   "id": "f737a5db-15eb-448e-9f94-1dcbf169c9bb",
   "metadata": {},
   "outputs": [],
   "source": [
    "from importlib import reload\n",
    "import matplotlib.pyplot as plt"
   ]
  },
  {
   "cell_type": "markdown",
   "id": "b9d00cf7-b9ba-4ec4-94d2-9e62c276cba9",
   "metadata": {},
   "source": [
    "## First some training"
   ]
  },
  {
   "cell_type": "code",
   "execution_count": null,
   "id": "52828790-317c-4834-a407-607bf492479b",
   "metadata": {},
   "outputs": [],
   "source": [
    "import train"
   ]
  },
  {
   "cell_type": "code",
   "execution_count": null,
   "id": "ef681131-7167-424c-8fc3-24959f9a132b",
   "metadata": {},
   "outputs": [],
   "source": [
    "reload(train)\n",
    "\n",
    "mnist_id = 0 \n",
    "num_epochs = 10\n",
    "data_dir = '../../data'\n",
    "resume = True\n",
    "verbose = True\n",
    "\n",
    "train.train(mnist_id, data_dir, num_epochs, resume, verbose)"
   ]
  },
  {
   "cell_type": "markdown",
   "id": "29bb15f3-3aa1-4158-8d82-2fb9f037f477",
   "metadata": {},
   "source": [
    "## Now inference"
   ]
  },
  {
   "cell_type": "code",
   "execution_count": null,
   "id": "14ba699a-e35a-42ec-83fa-1df3254ab209",
   "metadata": {},
   "outputs": [],
   "source": [
    "import evaluate"
   ]
  },
  {
   "cell_type": "code",
   "execution_count": null,
   "id": "06d7d687-7cb0-4384-90cb-f7be342e949e",
   "metadata": {},
   "outputs": [],
   "source": [
    "reload(evaluate)\n",
    "\n",
    "model = evaluate.load_model('./nir.pth')\n",
    "output_image = evaluate.reconstruct_image(model)\n",
    "h, w = output_image.shape\n",
    "\n",
    "plt.figure(figsize=(10,5))\n",
    "plt.title(f'reconstructed {w}x{h}')\n",
    "plt.xticks([])\n",
    "plt.yticks([])\n",
    "plt.imshow(output_image, cmap='gray')"
   ]
  },
  {
   "cell_type": "code",
   "execution_count": null,
   "id": "bef17022-dad6-4f22-b43a-fc369f0ba0ba",
   "metadata": {},
   "outputs": [],
   "source": []
  }
 ],
 "metadata": {
  "kernelspec": {
   "display_name": "Python 3 (ipykernel)",
   "language": "python",
   "name": "python3"
  },
  "language_info": {
   "codemirror_mode": {
    "name": "ipython",
    "version": 3
   },
   "file_extension": ".py",
   "mimetype": "text/x-python",
   "name": "python",
   "nbconvert_exporter": "python",
   "pygments_lexer": "ipython3",
   "version": "3.9.7"
  }
 },
 "nbformat": 4,
 "nbformat_minor": 5
}
