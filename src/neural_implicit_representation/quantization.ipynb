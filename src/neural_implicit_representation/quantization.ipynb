{
 "cells": [
  {
   "cell_type": "markdown",
   "id": "00660336-d5df-44e9-9546-5724e10336d8",
   "metadata": {},
   "source": [
    "# Something Something about Quantization\n",
    "\n",
    "Faisal Qureshi    \n",
    "faisal.qureshi@ontariotechu.ca"
   ]
  },
  {
   "cell_type": "code",
   "execution_count": null,
   "id": "930200b5-9a9a-47e8-ade4-16c38f45d0b1",
   "metadata": {},
   "outputs": [],
   "source": [
    "from importlib import reload\n",
    "import matplotlib.pyplot as plt\n",
    "import torch"
   ]
  },
  {
   "cell_type": "markdown",
   "id": "ee12249e-7741-41e8-a7ae-60727fb972fc",
   "metadata": {},
   "source": [
    "## Pre-trained model for MNIST idx 0"
   ]
  },
  {
   "cell_type": "code",
   "execution_count": null,
   "id": "cd0b4c68-71c3-457e-ac0a-3bb01463ebe3",
   "metadata": {},
   "outputs": [],
   "source": [
    "import train"
   ]
  },
  {
   "cell_type": "code",
   "execution_count": null,
   "id": "af0e4324-9f14-41a6-95be-9fb996c2f45d",
   "metadata": {},
   "outputs": [],
   "source": [
    "reload(train)\n",
    "image = train.pick_mnist_image(idx=0, root='../../data', download=False)\n",
    "h, w = image.shape\n",
    "\n",
    "plt.figure(figsize=(10,5))\n",
    "plt.title(f'original image {w}x{h}')\n",
    "plt.xticks([])\n",
    "plt.yticks([])\n",
    "plt.imshow(image, cmap='gray');"
   ]
  },
  {
   "cell_type": "code",
   "execution_count": null,
   "id": "6c3bf23b-5720-4071-a6cc-19f54420f6d4",
   "metadata": {},
   "outputs": [],
   "source": [
    "import evaluate"
   ]
  },
  {
   "cell_type": "code",
   "execution_count": null,
   "id": "e17ea6d2-d96b-484e-bf76-eb2b6387c08e",
   "metadata": {},
   "outputs": [],
   "source": [
    "reload(evaluate)\n",
    "\n",
    "model = evaluate.load_model('./nir.pth')\n",
    "output_image = evaluate.reconstruct_image(model)\n",
    "output_image -= output_image.min()\n",
    "output_image /= output_image.max()\n",
    "\n",
    "h, w = output_image.shape\n",
    "\n",
    "plt.figure(figsize=(10,5))\n",
    "plt.title(f'reconstructed {w}x{h}')\n",
    "plt.xticks([])\n",
    "plt.yticks([])\n",
    "plt.imshow(output_image, cmap='gray');"
   ]
  },
  {
   "cell_type": "markdown",
   "id": "d2d4ebfd-c086-4047-91b8-deea8248fe26",
   "metadata": {},
   "source": [
    "## Image similarity"
   ]
  },
  {
   "cell_type": "code",
   "execution_count": null,
   "id": "8fc9b24c-e1e0-498b-a63e-a9bbe9fa4c9c",
   "metadata": {},
   "outputs": [],
   "source": [
    "import similarity"
   ]
  },
  {
   "cell_type": "code",
   "execution_count": null,
   "id": "587ee72c-73bb-4041-8b52-eb2d6094018b",
   "metadata": {},
   "outputs": [],
   "source": [
    "reload(similarity)\n",
    "\n",
    "i1 = torch.Tensor(image)\n",
    "i1 = similarity.normalize(i1)\n",
    "i2 = torch.Tensor(output_image)\n",
    "i2 = similarity.normalize(i2)\n",
    "\n",
    "print(f'mse  = {similarity.mse(i1, i2)}')\n",
    "print(f'psnr = {similarity.psnr(i1, i2)}')"
   ]
  },
  {
   "cell_type": "markdown",
   "id": "7aa61588-70b7-46c6-bf1b-c18cba98ec40",
   "metadata": {},
   "source": [
    "## Quantization in PyTorch\n",
    "\n",
    "More at [https://pytorch.org/docs/stable/quantization.html](https://pytorch.org/docs/stable/quantization.html)."
   ]
  },
  {
   "cell_type": "code",
   "execution_count": null,
   "id": "3ffe6a6c-8f06-45af-b31e-2f94a0e2be78",
   "metadata": {},
   "outputs": [],
   "source": [
    "model.to('cpu')\n",
    "model.eval()\n",
    "print(model)"
   ]
  },
  {
   "cell_type": "code",
   "execution_count": null,
   "id": "38e93dee-499f-4e2f-b2fa-d26b73981b70",
   "metadata": {},
   "outputs": [],
   "source": [
    "import os\n",
    "import torch\n",
    "\n",
    "def print_model_size(mdl):\n",
    "    torch.save(mdl.state_dict(), \"tmp.pt\")\n",
    "    print(\"%.6f MB\" %(os.path.getsize(\"tmp.pt\")/1e6))\n",
    "    os.remove('tmp.pt')"
   ]
  },
  {
   "cell_type": "code",
   "execution_count": null,
   "id": "d3ed8ddf-fe5a-4ee6-877f-cd4a50ef6280",
   "metadata": {},
   "outputs": [],
   "source": [
    "model.qconfig = torch.quantization.get_default_qconfig('qnnpack')\n",
    "torch.backends.quantized.engine = 'qnnpack'\n",
    "model_tmp = torch.quantization.prepare(model, inplace=False)\n",
    "modelq = torch.quantization.convert(model_tmp, inplace=False)\n",
    "\n",
    "print_model_size(model)\n",
    "print_model_size(modelq)"
   ]
  },
  {
   "cell_type": "code",
   "execution_count": null,
   "id": "7fc62fe8-1973-47fd-9b09-cf39c12f71ae",
   "metadata": {},
   "outputs": [],
   "source": [
    "output_image = evaluate.reconstruct_image(modelq, device='cpu')\n",
    "output_image -= output_image.min()\n",
    "output_image /= output_image.max()\n",
    "\n",
    "h, w = output_image.shape\n",
    "\n",
    "plt.figure(figsize=(10,5))\n",
    "plt.title(f'reconstructed {w}x{h}')\n",
    "plt.xticks([])\n",
    "plt.yticks([])\n",
    "plt.imshow(output_image, cmap='gray');"
   ]
  },
  {
   "cell_type": "code",
   "execution_count": null,
   "id": "5d3b20b3-62ef-4658-86d7-fb5b7d5e5927",
   "metadata": {},
   "outputs": [],
   "source": [
    "reload(similarity)\n",
    "\n",
    "i1 = torch.Tensor(image)\n",
    "i1 = similarity.normalize(i1)\n",
    "i2 = torch.Tensor(output_image)\n",
    "i2 = similarity.normalize(i2)\n",
    "\n",
    "print(f'mse  = {similarity.mse(i1, i2)}')\n",
    "print(f'psnr = {similarity.psnr(i1, i2)}')"
   ]
  },
  {
   "cell_type": "code",
   "execution_count": null,
   "id": "4acbb5d7-25c5-4833-8e35-563f4cb007ff",
   "metadata": {},
   "outputs": [],
   "source": [
    "torch.save(modelq.state_dict(),'1.pts')\n",
    "torch.save(model.state_dict(),'2.pts')"
   ]
  },
  {
   "cell_type": "code",
   "execution_count": null,
   "id": "a62d3b3c-7393-44b8-874c-dd3886e9d446",
   "metadata": {},
   "outputs": [],
   "source": [
    "modelq.state_dict()"
   ]
  },
  {
   "cell_type": "code",
   "execution_count": null,
   "id": "acb8c60d-5feb-452d-afea-157f38551850",
   "metadata": {},
   "outputs": [],
   "source": []
  }
 ],
 "metadata": {
  "kernelspec": {
   "display_name": "Python 3 (ipykernel)",
   "language": "python",
   "name": "python3"
  },
  "language_info": {
   "codemirror_mode": {
    "name": "ipython",
    "version": 3
   },
   "file_extension": ".py",
   "mimetype": "text/x-python",
   "name": "python",
   "nbconvert_exporter": "python",
   "pygments_lexer": "ipython3",
   "version": "3.9.7"
  }
 },
 "nbformat": 4,
 "nbformat_minor": 5
}
