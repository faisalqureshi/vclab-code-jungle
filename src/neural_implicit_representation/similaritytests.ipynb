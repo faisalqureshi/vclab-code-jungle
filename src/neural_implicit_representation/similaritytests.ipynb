{
 "cells": [
  {
   "cell_type": "markdown",
   "id": "228877b3-bfba-4b2c-bc8b-849b557268da",
   "metadata": {},
   "source": [
    "# Signal-to-Noise Ratio for Images\n",
    "\n",
    "Faisal Qureshi      \n",
    "faisal.qureshi@ontariotechu.ca"
   ]
  },
  {
   "cell_type": "markdown",
   "id": "b9e9ab5d-beae-46c1-9cb7-3800bd208aa4",
   "metadata": {},
   "source": [
    "## Signal-to-Noise Ratio\n",
    "\n",
    "Signal-to-Noise $(\\mathrm{SNR})$ can be expressed as a simple ratio $(S/N)$ or in decibles $\\mathrm{(dB)}$, where $\\mathrm{SNR(dB)}=20 \\log_{10} \\left( S/N \\right)$.  "
   ]
  },
  {
   "cell_type": "markdown",
   "id": "7891353f-9f17-4a36-a748-9b0864d1279d",
   "metadata": {},
   "source": [
    "## Peak Signal-to-Noise Ratio (PSNR)\n",
    "\n",
    "PSNR is a quality measure between a given image and its compressed (or reconstructed) version.  The higher the PSNR, the better the quality of compressed (or reconstructed) image.\n",
    "\n",
    "The mean-squared error (MSE) is also used to measure the quality of the compressed (or reconstructed) image.  Given an image $I$ and its compressed version $\\hat{I}$, compute MSE as follows:\n",
    "\n",
    "$$\n",
    "\\mathrm{MSE} = \\frac{\\sum_{M,N} \\left(I(m,n)-\\hat{I}(m,n)\\right)^2}{M N}\n",
    "$$\n",
    "\n",
    "Then\n",
    "\n",
    "$$\n",
    "\\mathrm{PSNR} = 10 \\log_{10} \\left( \\frac{R^2}{\\mathrm{MSE}}\\right),\n",
    "$$\n",
    "\n",
    "where $R$ is maximum fluctation in image $I$.  It is 255 for 8-bit images and 1.0 for floating point images."
   ]
  },
  {
   "cell_type": "code",
   "execution_count": null,
   "id": "01f937a5-541d-40ad-a0bb-c33bdadb53ea",
   "metadata": {},
   "outputs": [],
   "source": [
    "from importlib import reload\n",
    "import matplotlib.pyplot as plt\n",
    "import torch"
   ]
  },
  {
   "cell_type": "code",
   "execution_count": null,
   "id": "6c36bc84-c5db-4e2b-b358-da0fce4bc284",
   "metadata": {},
   "outputs": [],
   "source": [
    "i1 = torch.ones((2,4))\n",
    "i2 = torch.randn((2,4))"
   ]
  },
  {
   "cell_type": "code",
   "execution_count": null,
   "id": "fad4c057-a865-4570-b5b1-bc2512d3f7cb",
   "metadata": {},
   "outputs": [],
   "source": [
    "def mse(i1, i2):\n",
    "    \"\"\"\n",
    "    Computes mse between two torch tensors\n",
    "    \"\"\"\n",
    "    h, w = i1.shape\n",
    "    return torch.sum((i1 - i2)**2) / (h*w)"
   ]
  },
  {
   "cell_type": "code",
   "execution_count": null,
   "id": "9b50583b-ee65-4f08-b7e8-b0640ae45b08",
   "metadata": {},
   "outputs": [],
   "source": [
    "def psnr(i1, i2, r=1.):\n",
    "    \"\"\"\n",
    "    Computes psnr betweent two torch tensors\n",
    "    \"\"\"\n",
    "    return 10*torch.log10(r**2 / mse(i1, i2))"
   ]
  },
  {
   "cell_type": "code",
   "execution_count": null,
   "id": "6f5992f5-97b3-412f-a8da-f79c3fa2f8cf",
   "metadata": {},
   "outputs": [],
   "source": [
    "print(mse(i1, i2))"
   ]
  },
  {
   "cell_type": "code",
   "execution_count": null,
   "id": "2be3e6dc-30dc-4a03-be98-2f3717fd1ab3",
   "metadata": {},
   "outputs": [],
   "source": [
    "print(psnr(i1, i2))"
   ]
  },
  {
   "cell_type": "code",
   "execution_count": null,
   "id": "9866573a-94db-4bda-9411-1684c28e3e87",
   "metadata": {},
   "outputs": [],
   "source": [
    "def normalize(i):\n",
    "    i -= i.min()\n",
    "    i /= i.max()\n",
    "    return i"
   ]
  },
  {
   "cell_type": "code",
   "execution_count": null,
   "id": "93369f36-ea07-42e7-8945-e817cd56d6d0",
   "metadata": {},
   "outputs": [],
   "source": [
    "print(i2)\n",
    "print(normalize(i2))"
   ]
  },
  {
   "cell_type": "code",
   "execution_count": null,
   "id": "b9e07329-d347-4e65-9457-b653a742d47a",
   "metadata": {},
   "outputs": [],
   "source": []
  }
 ],
 "metadata": {
  "kernelspec": {
   "display_name": "Python 3 (ipykernel)",
   "language": "python",
   "name": "python3"
  },
  "language_info": {
   "codemirror_mode": {
    "name": "ipython",
    "version": 3
   },
   "file_extension": ".py",
   "mimetype": "text/x-python",
   "name": "python",
   "nbconvert_exporter": "python",
   "pygments_lexer": "ipython3",
   "version": "3.9.7"
  }
 },
 "nbformat": 4,
 "nbformat_minor": 5
}
