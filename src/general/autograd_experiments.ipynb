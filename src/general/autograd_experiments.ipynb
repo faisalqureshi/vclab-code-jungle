{
 "cells": [
  {
   "cell_type": "markdown",
   "id": "9dc9ef53-63a5-48b1-be01-d5bcbbfb9dac",
   "metadata": {},
   "source": [
    "# Autograd Experiments\n",
    "\n",
    "Faisal Qureshi     \n",
    "faisal.qureshi@ontariotechu.ca"
   ]
  },
  {
   "cell_type": "code",
   "execution_count": null,
   "id": "684da351-4fc9-4498-b93e-7a7838aa6e40",
   "metadata": {},
   "outputs": [],
   "source": [
    "import torch\n",
    "import matplotlib.pyplot as plt"
   ]
  },
  {
   "cell_type": "code",
   "execution_count": null,
   "id": "e4bf000b-a939-4d7c-bd19-4a991e400a3a",
   "metadata": {},
   "outputs": [],
   "source": [
    "x = torch.linspace(-10, 10)\n",
    "y = torch.sigmoid(x)"
   ]
  },
  {
   "cell_type": "code",
   "execution_count": null,
   "id": "c9555d89-08a9-4798-97f5-8589253e9e51",
   "metadata": {},
   "outputs": [],
   "source": [
    "x_ = x.clone()\n",
    "x_.requires_grad = True\n",
    "torch.sigmoid(x_).sum().backward()"
   ]
  },
  {
   "cell_type": "code",
   "execution_count": null,
   "id": "10ad2ea2-a651-4fd2-bda4-06e57c4b8cff",
   "metadata": {},
   "outputs": [],
   "source": [
    "plt.figure(figsize=(10,5))\n",
    "plt.title('Function and its derivative')\n",
    "plt.plot(x, y, label='sigmoid(x)')\n",
    "plt.plot(x, x_.grad, label='d sigmoid(x)/dx')\n",
    "plt.legend();"
   ]
  },
  {
   "cell_type": "code",
   "execution_count": null,
   "id": "a3826543-bc07-409a-a29b-30b2b0344008",
   "metadata": {},
   "outputs": [],
   "source": []
  }
 ],
 "metadata": {
  "kernelspec": {
   "display_name": "Python 3 (ipykernel)",
   "language": "python",
   "name": "python3"
  },
  "language_info": {
   "codemirror_mode": {
    "name": "ipython",
    "version": 3
   },
   "file_extension": ".py",
   "mimetype": "text/x-python",
   "name": "python",
   "nbconvert_exporter": "python",
   "pygments_lexer": "ipython3",
   "version": "3.9.7"
  }
 },
 "nbformat": 4,
 "nbformat_minor": 5
}
