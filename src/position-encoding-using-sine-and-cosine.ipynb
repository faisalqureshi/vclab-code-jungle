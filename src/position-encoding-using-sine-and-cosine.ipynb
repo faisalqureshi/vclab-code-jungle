{
 "cells": [
  {
   "cell_type": "markdown",
   "id": "058a0d80",
   "metadata": {},
   "source": [
    "# Positional encoding using Sine and Cosine\n",
    "\n",
    "Faisal Qureshi     \n",
    "faisal.qureshi@ontariotechu.ca"
   ]
  },
  {
   "cell_type": "code",
   "execution_count": null,
   "id": "9963a3f7",
   "metadata": {},
   "outputs": [],
   "source": [
    "import matplotlib.pyplot as plt\n",
    "import numpy as np"
   ]
  },
  {
   "cell_type": "markdown",
   "id": "00a337eb",
   "metadata": {},
   "source": [
    "## Plotting sine waves of different frequencies"
   ]
  },
  {
   "cell_type": "markdown",
   "id": "07d8a523",
   "metadata": {},
   "source": [
    "Sine function is described as\n",
    "\n",
    "$$\n",
    "f(x) = A \\sin \\left( \\frac{2 \\pi}{B} x + C \\right) + D\n",
    "$$\n",
    "\n",
    "Here $A$ refers to the amplitude, $B$ refers to the period, $C$ refers to the phase, and $D$ refers to the vertical shift of this function. Frequency $f = \\frac{1}{B}$."
   ]
  },
  {
   "cell_type": "code",
   "execution_count": null,
   "id": "f7ea45b4",
   "metadata": {},
   "outputs": [],
   "source": [
    "period = 128\n",
    "x = np.linspace(0,128,1000)\n",
    "y = np.sin((2*np.pi/period) * x)\n",
    "plt.figure(figsize=(5,5))\n",
    "plt.plot(x, y)\n",
    "plt.title(f'Sine wave of period {period}')"
   ]
  },
  {
   "cell_type": "markdown",
   "id": "10fd0747",
   "metadata": {},
   "source": [
    "## Positional encoding"
   ]
  },
  {
   "cell_type": "code",
   "execution_count": null,
   "id": "1cf85bd3",
   "metadata": {},
   "outputs": [],
   "source": [
    "p = np.arange(8)\n",
    "print(p)"
   ]
  },
  {
   "cell_type": "markdown",
   "id": "07204b64",
   "metadata": {},
   "source": [
    "### Using binary vectors\n",
    "\n",
    "Let's consider the problem of encoding positions as binary vectors.  To represent 8 positions, we need three bits.  \n",
    "\n",
    "0 = 000  \n",
    "1 = 001  \n",
    "2 = 010  \n",
    "3 = 011  \n",
    "4 = 100  \n",
    "5 = 101  \n",
    "6 = 110  \n",
    "7 = 111\n",
    "\n",
    "Notice something else also.  Bit one, flips from 0 to 1 once.  Bit two, flips from 0 to 1 twice.  Bit three flips from 0 to 1 four times.  The problem of this encoding scheme is that it is discrete.  Also that it isn't immediately obvious how to compute distances between two positions.  We will use sine functions to create a continuous representation.  An added benefit of using sine functions is that we do not need to restrict ourselves to 0s and 1s.  Sine functions varies smoothly between -1 to 1. \n",
    "\n",
    "Below lets assume that we will use only two sine functions to encode 8 positions shown above.  In one period a sine function goes from 0 to 1 to 0 to -1 and back to 0.  This suggests that at least on sine function should have a period that is twice the number of positions that we intend to store.  So, if we intend to store 8 positions, we need atleast one sine wave of period 16."
   ]
  },
  {
   "cell_type": "markdown",
   "id": "2278c41c-31c8-4730-bc50-6f26cfbce765",
   "metadata": {},
   "source": [
    "### Using sin functions"
   ]
  },
  {
   "cell_type": "code",
   "execution_count": null,
   "id": "3b887e9d",
   "metadata": {},
   "outputs": [],
   "source": [
    "# When using sine functions of periods 8 and 4\n",
    "\n",
    "period1 = 8\n",
    "period2 = 4\n",
    "\n",
    "def f(x, period):\n",
    "    return np.sin(2*np.pi*x/period)\n",
    "\n",
    "x = np.linspace(0, 16, 1000)\n",
    "\n",
    "plt.plot(x, f(x, period1))\n",
    "plt.plot(x, f(x, period2))"
   ]
  },
  {
   "cell_type": "markdown",
   "id": "52f242de",
   "metadata": {},
   "source": [
    "You will notice that both curves meet at 4 and then again at 8, and so on.  This suggests that positions 0, 4, 8, will look the same. "
   ]
  },
  {
   "cell_type": "code",
   "execution_count": null,
   "id": "a459b0c3",
   "metadata": {},
   "outputs": [],
   "source": [
    "# When using sine functions of periods 8 and 4\n",
    "\n",
    "period1 = 16\n",
    "period2 = 8\n",
    "\n",
    "def f(x, period):\n",
    "    return np.sin(2*np.pi*x/period)\n",
    "\n",
    "x = np.linspace(0, 16, 1000)\n",
    "\n",
    "plt.plot(x, f(x, period1))\n",
    "plt.plot(x, f(x, period2))"
   ]
  },
  {
   "cell_type": "markdown",
   "id": "e41af758",
   "metadata": {},
   "source": [
    "### Frequency/period considerations\n",
    "\n",
    "Now both curves meet at 8, 16 and so on.  This suggests that the positon for location 0, 8, 16, and so on, will be the same.\n",
    "\n",
    "So, when you use sine function to encode positions, you should use at least one sine function of period that is twice the number of locations that you plan to encode, i.e., if you plan to encode $n$ locations, at least one sine function should have period equal to $2n$."
   ]
  },
  {
   "cell_type": "code",
   "execution_count": null,
   "id": "351f1b80",
   "metadata": {},
   "outputs": [],
   "source": [
    "# Say we want to encode positions from 0 to 7, so 8 positions in total\n",
    "\n",
    "n = 1280\n",
    "period1 = 128 # Set this to 8 or 16 to see of position 0 is mapped to position 4.  Confirming our intuition above.\n",
    "num_sines = 2\n",
    "\n",
    "periods = period1/(2**np.arange(num_sines))\n",
    "print(periods[::-1])\n",
    "\n",
    "freqs = 2*np.pi/periods\n",
    "print(freqs[::-1])\n",
    "\n",
    "pos = np.arange(n)\n",
    "#print(pos)\n",
    "\n",
    "enc = np.sin(pos.reshape(-1,1)*freqs.reshape(1,-1))\n",
    "#print(enc)\n",
    "\n",
    "# From stackoverflow\n",
    "\n",
    "phi = np.linspace(0, 2*np.pi, n)\n",
    "x = np.sin(phi)\n",
    "y = np.cos(phi)\n",
    "rgb_cycle = np.vstack((               # Three sinusoids\n",
    "    .5*(1.+np.cos(phi          )),    # scaled to [0,1]\n",
    "    .5*(1.+np.cos(phi+2*np.pi/3)),    # 120° phase shifted.\n",
    "    .5*(1.+np.cos(phi-2*np.pi/3)))).T # Shape = (60,3)\n",
    "\n",
    "fig, ax = plt.subplots(figsize=(5,5))\n",
    "plt.plot(enc[:,0], enc[:,1])\n",
    "ax.scatter(enc[:,0], enc[:,1], c=rgb_cycle[:], s=64)"
   ]
  },
  {
   "cell_type": "markdown",
   "id": "6edd0c6d",
   "metadata": {},
   "source": [
    "Interestingly, it suggests that we need some \"minimum\" frequency sine function to encode positions.  \n",
    "\n",
    "Given this minimum frequency, frequencies of other sine functions must be *monotonically increasing*.  This is often written as \n",
    "\n",
    "$$\n",
    "M_{ij} = \\sin\\left(x_i \\omega_0^{j / d_{\\mathrm{model}}} \\right)\n",
    "$$\n",
    "\n",
    "Where omega is smallest frequency (corresponding to the longest period).  "
   ]
  },
  {
   "cell_type": "code",
   "execution_count": null,
   "id": "8077d92c",
   "metadata": {},
   "outputs": [],
   "source": [
    "# Say we want to encode positions from 0 to 7, so 8 positions in total\n",
    "\n",
    "n = 64\n",
    "omega_0 = 1/64\n",
    "num_sines = 2\n",
    "\n",
    "freqs = (omega_0 ** ((np.arange(num_sines)+1)/num_sines)) \n",
    "print(freqs)\n",
    "\n",
    "pos = np.arange(n)\n",
    "#print(pos)\n",
    "\n",
    "enc = np.sin(pos.reshape(-1,1)*freqs[::-1].reshape(1,-1))\n",
    "#print(enc)\n",
    "\n",
    "# From stackoverflow\n",
    "\n",
    "phi = np.linspace(0, 2*np.pi, n)\n",
    "x = np.sin(phi)\n",
    "y = np.cos(phi)\n",
    "rgb_cycle = np.vstack((               # Three sinusoids\n",
    "    .5*(1.+np.cos(phi          )),    # scaled to [0,1]\n",
    "    .5*(1.+np.cos(phi+2*np.pi/3)),    # 120° phase shifted.\n",
    "    .5*(1.+np.cos(phi-2*np.pi/3)))).T # Shape = (60,3)\n",
    "\n",
    "fig, ax = plt.subplots(figsize=(5,5))\n",
    "plt.plot(enc[:,0], enc[:,1])\n",
    "ax.scatter(enc[:,0], enc[:,1], c=rgb_cycle[:], s=64)"
   ]
  },
  {
   "cell_type": "markdown",
   "id": "0cf27087",
   "metadata": {},
   "source": [
    "### Dealing with Translations - using both sin and cosine functions\n",
    "\n",
    "One of the problem with this encoding is that it is not clear how to apply translation to this encoding.  Ideally, we would like something as follows:\n",
    "\n",
    "$$\n",
    "PE(x + \\Delta x) = T(\\Delta x)PE(x) \n",
    "$$\n",
    "\n",
    "i.e., we want to express translation as linear transformation (matrix multiplication).  Realizing that sines and cosines operate on angles, we can use the following property to construct a positional encoding which allows translation to be expressed as a linear transformation.\n",
    "\n",
    "$$\n",
    "\\cos(\\theta+\\phi) = \\cos(\\theta)\\cos(\\phi) - \\sin(\\theta)\\sin(\\phi) \\\\\n",
    "\\sin(\\theta+\\phi) = \\cos(\\theta)\\sin(\\phi) + \\sin(\\theta)\\cos(\\phi)\n",
    "$$\n",
    "\n",
    "and then\n",
    "\n",
    "$$\n",
    "\\left[ \\begin{array}{c} \n",
    "\\cos(\\theta+\\phi)\\\\\n",
    "\\sin(\\theta+\\phi)\n",
    "\\end{array} \\right]\n",
    "=\n",
    "\\left[ \\begin{array}{cc} \n",
    "\\cos(\\phi) & -\\sin(\\phi)\\\\\n",
    "\\sin(\\phi) & \\cos(\\phi)\\\\\n",
    "\\end{array} \\right]\n",
    "\\left[ \\begin{array}{c} \n",
    "\\cos(\\theta)\\\\\n",
    "\\sin(\\theta)\n",
    "\\end{array} \\right]\n",
    "$$\n",
    "\n",
    "We can then use sine and cosine functions to construct our position encoding."
   ]
  },
  {
   "cell_type": "code",
   "execution_count": null,
   "id": "98e9a440",
   "metadata": {},
   "outputs": [],
   "source": [
    "n = 1024\n",
    "omega_0 = 1/10000\n",
    "d_model = 64\n",
    "\n",
    "powers = 2*(np.arange(d_model)//2)/d_model\n",
    "print(powers)\n",
    "\n",
    "print(omega_0)\n",
    "freqs = omega_0**powers\n",
    "\n",
    "enc = np.arange(n).reshape(-1,1)*freqs.reshape(1,-1)\n",
    "enc[:,0::2] = np.sin(enc[:,0::2])\n",
    "enc[:,1::2] = np.cos(enc[:,1::2])\n",
    "\n",
    "plt.figure(figsize=(1,50))\n",
    "plt.imshow(enc)"
   ]
  },
  {
   "cell_type": "markdown",
   "id": "5f8be7de-84a6-4244-8dff-cbf0df0f3a58",
   "metadata": {},
   "source": [
    "### Putting it all together"
   ]
  },
  {
   "cell_type": "code",
   "execution_count": null,
   "id": "9b6cdf6e",
   "metadata": {},
   "outputs": [],
   "source": [
    "import positional_encoding as pe\n",
    "from importlib import reload\n",
    "reload(pe)\n",
    "\n",
    "n = 64\n",
    "pos = np.arange(n)\n",
    "d_model = 64\n",
    "enc = pe.positional_encoding(pos, d_model)\n",
    "\n",
    "plt.figure(figsize=(10,4))\n",
    "plt.subplot(121)\n",
    "plt.imshow(enc)\n",
    "plt.subplot(122)\n",
    "plt.plot(enc[49,:])"
   ]
  },
  {
   "cell_type": "code",
   "execution_count": null,
   "id": "7e359770",
   "metadata": {},
   "outputs": [],
   "source": []
  }
 ],
 "metadata": {
  "kernelspec": {
   "display_name": "Python 3 (ipykernel)",
   "language": "python",
   "name": "python3"
  },
  "language_info": {
   "codemirror_mode": {
    "name": "ipython",
    "version": 3
   },
   "file_extension": ".py",
   "mimetype": "text/x-python",
   "name": "python",
   "nbconvert_exporter": "python",
   "pygments_lexer": "ipython3",
   "version": "3.9.7"
  }
 },
 "nbformat": 4,
 "nbformat_minor": 5
}
