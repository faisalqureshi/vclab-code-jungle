{
 "cells": [
  {
   "cell_type": "markdown",
   "id": "629b78b0-e3a3-43af-8f5e-07d6c978de0e",
   "metadata": {},
   "source": [
    "# Einops playground\n",
    "\n",
    "Faisal Qureshi     \n",
    "faisal.qureshi@ontariotechu.ca\n",
    "\n",
    "Check out the excellent tutorial at [https://github.com/arogozhnikov/einops/blob/master/docs/1-einops-basics.ipynb](https://github.com/arogozhnikov/einops/blob/master/docs/1-einops-basics.ipynb)"
   ]
  },
  {
   "cell_type": "code",
   "execution_count": null,
   "id": "ecf4aa77-8bd6-417e-83ec-e5d51327e8b1",
   "metadata": {},
   "outputs": [],
   "source": [
    "import numpy as np"
   ]
  },
  {
   "cell_type": "code",
   "execution_count": null,
   "id": "2b5cf67f-76f3-4c6a-b6d0-22afe95f57c0",
   "metadata": {},
   "outputs": [],
   "source": [
    "from utils import display_np_arrays_as_images\n",
    "display_np_arrays_as_images()"
   ]
  },
  {
   "cell_type": "code",
   "execution_count": null,
   "id": "b76ee260-744d-4f2d-80a7-d8113350fba0",
   "metadata": {},
   "outputs": [],
   "source": [
    "ims = np.load('test_images.npy')\n",
    "print(ims.shape)"
   ]
  },
  {
   "cell_type": "code",
   "execution_count": null,
   "id": "056ddbd5-0845-4d28-b36b-1042352072c8",
   "metadata": {},
   "outputs": [],
   "source": [
    "ims"
   ]
  },
  {
   "cell_type": "code",
   "execution_count": null,
   "id": "b950c9df-3f70-40c6-9bc1-ca864e495fb6",
   "metadata": {},
   "outputs": [],
   "source": [
    "from einops import rearrange"
   ]
  },
  {
   "cell_type": "code",
   "execution_count": null,
   "id": "be60165f-5620-4867-aa88-3a36d575e86e",
   "metadata": {},
   "outputs": [],
   "source": [
    "rearrange(ims, 'b h w c -> (b h) w c')"
   ]
  },
  {
   "cell_type": "code",
   "execution_count": null,
   "id": "6f80e26e-219a-4685-a593-f611cb1ebe91",
   "metadata": {},
   "outputs": [],
   "source": []
  }
 ],
 "metadata": {
  "kernelspec": {
   "display_name": "Python 3 (ipykernel)",
   "language": "python",
   "name": "python3"
  },
  "language_info": {
   "codemirror_mode": {
    "name": "ipython",
    "version": 3
   },
   "file_extension": ".py",
   "mimetype": "text/x-python",
   "name": "python",
   "nbconvert_exporter": "python",
   "pygments_lexer": "ipython3",
   "version": "3.9.7"
  }
 },
 "nbformat": 4,
 "nbformat_minor": 5
}
